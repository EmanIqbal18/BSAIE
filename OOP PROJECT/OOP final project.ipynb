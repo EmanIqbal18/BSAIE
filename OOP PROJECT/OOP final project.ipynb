{
 "cells": [
  {
   "cell_type": "markdown",
   "id": "d56ae3a5",
   "metadata": {},
   "source": [
    "## **Importing Required Libraries**\n",
    "\n",
    "We import all the necessary libraries that will be used throughout our machine learning project. Each library has a specific purpose that helps in data handling, visualization, modeling, and evaluation.\n",
    "\n",
    "- **NumPy**:  \n",
    "  Used for numerical operations. It handles arrays, mathematical functions, and linear algebra efficiently.\n",
    "\n",
    "- **Pandas**:  \n",
    "  Essential for data manipulation and analysis. It helps us read, filter, and structure our dataset using DataFrames.\n",
    "\n",
    "- **Matplotlib**:  \n",
    "  Used for creating basic visualizations such as line charts, bar graphs, and histograms.\n",
    "\n",
    "- **Seaborn**:  \n",
    "  A statistical data visualization library built on top of Matplotlib. It provides beautiful and informative graphics.\n",
    "\n",
    "- **Scikit-learn**:  \n",
    "  The core machine learning library for Python. It provides tools for:\n",
    "  - Preprocessing (e.g. scaling, train-test split)\n",
    "  - Building models (e.g. logistic regression, decision trees)\n",
    "  - Evaluating models (e.g. accuracy, confusion matrix)\n",
    "\n",
    "\n",
    "- **Pickle**:\n",
    "\n",
    "  We use the `pickle` library to save the trained ML model into a `.pkl` file.\n",
    "This allows us to reuse the model without retraining.\n",
    "\n",
    "\n",
    "- Avoids retraining\n",
    "- Good for deployment\n",
    "- Makes model portable\n",
    "\n",
    "\n"
   ]
  },
  {
   "cell_type": "code",
   "execution_count": 2,
   "id": "9bd98ba1",
   "metadata": {},
   "outputs": [],
   "source": [
    "# Numerical and data manipulation \n",
    "import numpy as np\n",
    "import pandas as pd\n",
    "\n",
    "# Visualization libraries \n",
    "import matplotlib.pyplot as plt\n",
    "import seaborn as sns \n",
    "\n",
    "# Machine learning tools from sklearn\n",
    "from sklearn.model_selection import train_test_split\n",
    "from sklearn.linear_model import LogisticRegression\n",
    "from sklearn.metrics import accuracy_score, confusion_matrix, classification_report\n",
    "from sklearn.pipeline import make_pipeline\n",
    "from sklearn.preprocessing import StandardScaler\n",
    "\n",
    "# For save the model\n",
    "import pickle\n"
   ]
  },
  {
   "cell_type": "markdown",
   "id": "f99a3a8f",
   "metadata": {},
   "source": [
    "## **Data Loading and Exploration with Classes**\n",
    "\n",
    "We are creating a single class `dataloader` which:\n",
    "- Loads the CSV file into a Pandas DataFrame\n",
    "- Automatically prints the following information upon method calls:\n",
    "  \n",
    "\n",
    "  - `head_data()` ➝ Returns the top rows\n",
    "  - `tail_data()` ➝ Returns the bottom rows\n",
    "  - `sample_data()` ➝ Returns a random sample of the data\n",
    "  - `describe_data()` ➝ Shows statistical summary\n",
    "  - `info_data()` ➝ Shows data types and nulls\n"
   ]
  },
  {
   "cell_type": "code",
   "execution_count": 3,
   "id": "5c3bc324",
   "metadata": {},
   "outputs": [],
   "source": [
    "pd.set_option(\"display.width\",1000)\n",
    "\n",
    "class dataloader:\n",
    "\n",
    "    def __init__(self, file_path):\n",
    "        \"\"\"\n",
    "        Initializes the ppl_data with file path\n",
    "        Loads data into self.df\n",
    "        \"\"\"\n",
    "        self.file_path = file_path\n",
    "        self.df = None \n",
    "    def load_data(self):\n",
    "        try:\n",
    "            self.df = pd.read_csv(self.file_path)\n",
    "            return \"Data loaded successfully\"\n",
    "        except Exception as e:\n",
    "            return f\"Error loading data : {e} \"\n",
    "        \n",
    "    def show_head(self):\n",
    "        print(\"\\nHead of the dataset:\")\n",
    "        return self.df.head()\n",
    "\n",
    "    def show_tail(self):\n",
    "        print(\"\\nTail of the dataset:\")\n",
    "        return self.df.tail()\n",
    "         \n",
    "    def show_sample(self):\n",
    "        print(\"\\nRandom Sample of the Dataset :\")\n",
    "        return self.df.sample()\n",
    "\n",
    "    def show_description(self):\n",
    "        print(\"\\nStatistical summary:\")\n",
    "        return self.df.describe()\n",
    "        \n",
    "    def show_info(self):\n",
    "        print(\"/nDataset information :\")\n",
    "        return self.df.info()\n",
    "\n"
   ]
  },
  {
   "cell_type": "code",
   "execution_count": 4,
   "id": "c0a067af",
   "metadata": {},
   "outputs": [
    {
     "data": {
      "text/plain": [
       "'Data loaded successfully'"
      ]
     },
     "execution_count": 4,
     "metadata": {},
     "output_type": "execute_result"
    }
   ],
   "source": [
    "\"\"\"Initialize DataLoader Object with CSV File\"\"\"\n",
    "loader = dataloader(\"people_data.csv\")\n",
    "loader.load_data()\n"
   ]
  },
  {
   "cell_type": "code",
   "execution_count": 5,
   "id": "18191d66",
   "metadata": {},
   "outputs": [
    {
     "name": "stdout",
     "output_type": "stream",
     "text": [
      "\n",
      "Head of the dataset:\n"
     ]
    },
    {
     "data": {
      "text/html": [
       "<div>\n",
       "<style scoped>\n",
       "    .dataframe tbody tr th:only-of-type {\n",
       "        vertical-align: middle;\n",
       "    }\n",
       "\n",
       "    .dataframe tbody tr th {\n",
       "        vertical-align: top;\n",
       "    }\n",
       "\n",
       "    .dataframe thead th {\n",
       "        text-align: right;\n",
       "    }\n",
       "</style>\n",
       "<table border=\"1\" class=\"dataframe\">\n",
       "  <thead>\n",
       "    <tr style=\"text-align: right;\">\n",
       "      <th></th>\n",
       "      <th>ID</th>\n",
       "      <th>Age</th>\n",
       "      <th>Weight</th>\n",
       "      <th>Height</th>\n",
       "      <th>SystolicBP</th>\n",
       "      <th>DiastolicBP</th>\n",
       "      <th>HeartRate</th>\n",
       "      <th>Temperature</th>\n",
       "      <th>DiseaseOutcome</th>\n",
       "    </tr>\n",
       "  </thead>\n",
       "  <tbody>\n",
       "    <tr>\n",
       "      <th>0</th>\n",
       "      <td>1</td>\n",
       "      <td>25</td>\n",
       "      <td>68.5</td>\n",
       "      <td>172.2</td>\n",
       "      <td>120</td>\n",
       "      <td>80</td>\n",
       "      <td>75</td>\n",
       "      <td>98.6</td>\n",
       "      <td>0</td>\n",
       "    </tr>\n",
       "    <tr>\n",
       "      <th>1</th>\n",
       "      <td>2</td>\n",
       "      <td>30</td>\n",
       "      <td>75.0</td>\n",
       "      <td>180.5</td>\n",
       "      <td>130</td>\n",
       "      <td>85</td>\n",
       "      <td>80</td>\n",
       "      <td>99.1</td>\n",
       "      <td>0</td>\n",
       "    </tr>\n",
       "    <tr>\n",
       "      <th>2</th>\n",
       "      <td>3</td>\n",
       "      <td>22</td>\n",
       "      <td>60.2</td>\n",
       "      <td>165.3</td>\n",
       "      <td>110</td>\n",
       "      <td>70</td>\n",
       "      <td>65</td>\n",
       "      <td>97.9</td>\n",
       "      <td>0</td>\n",
       "    </tr>\n",
       "    <tr>\n",
       "      <th>3</th>\n",
       "      <td>4</td>\n",
       "      <td>28</td>\n",
       "      <td>82.1</td>\n",
       "      <td>178.0</td>\n",
       "      <td>140</td>\n",
       "      <td>90</td>\n",
       "      <td>85</td>\n",
       "      <td>100.2</td>\n",
       "      <td>1</td>\n",
       "    </tr>\n",
       "    <tr>\n",
       "      <th>4</th>\n",
       "      <td>5</td>\n",
       "      <td>35</td>\n",
       "      <td>90.0</td>\n",
       "      <td>185.4</td>\n",
       "      <td>135</td>\n",
       "      <td>88</td>\n",
       "      <td>82</td>\n",
       "      <td>99.4</td>\n",
       "      <td>1</td>\n",
       "    </tr>\n",
       "  </tbody>\n",
       "</table>\n",
       "</div>"
      ],
      "text/plain": [
       "   ID  Age  Weight  Height  SystolicBP  DiastolicBP  HeartRate  Temperature  DiseaseOutcome\n",
       "0   1   25    68.5   172.2         120           80         75         98.6               0\n",
       "1   2   30    75.0   180.5         130           85         80         99.1               0\n",
       "2   3   22    60.2   165.3         110           70         65         97.9               0\n",
       "3   4   28    82.1   178.0         140           90         85        100.2               1\n",
       "4   5   35    90.0   185.4         135           88         82         99.4               1"
      ]
     },
     "execution_count": 5,
     "metadata": {},
     "output_type": "execute_result"
    }
   ],
   "source": [
    "loader.show_head()"
   ]
  },
  {
   "cell_type": "code",
   "execution_count": 6,
   "id": "0c2fc9fe",
   "metadata": {},
   "outputs": [
    {
     "name": "stdout",
     "output_type": "stream",
     "text": [
      "\n",
      "Tail of the dataset:\n"
     ]
    },
    {
     "data": {
      "text/html": [
       "<div>\n",
       "<style scoped>\n",
       "    .dataframe tbody tr th:only-of-type {\n",
       "        vertical-align: middle;\n",
       "    }\n",
       "\n",
       "    .dataframe tbody tr th {\n",
       "        vertical-align: top;\n",
       "    }\n",
       "\n",
       "    .dataframe thead th {\n",
       "        text-align: right;\n",
       "    }\n",
       "</style>\n",
       "<table border=\"1\" class=\"dataframe\">\n",
       "  <thead>\n",
       "    <tr style=\"text-align: right;\">\n",
       "      <th></th>\n",
       "      <th>ID</th>\n",
       "      <th>Age</th>\n",
       "      <th>Weight</th>\n",
       "      <th>Height</th>\n",
       "      <th>SystolicBP</th>\n",
       "      <th>DiastolicBP</th>\n",
       "      <th>HeartRate</th>\n",
       "      <th>Temperature</th>\n",
       "      <th>DiseaseOutcome</th>\n",
       "    </tr>\n",
       "  </thead>\n",
       "  <tbody>\n",
       "    <tr>\n",
       "      <th>59</th>\n",
       "      <td>60</td>\n",
       "      <td>30</td>\n",
       "      <td>55.9</td>\n",
       "      <td>160.4</td>\n",
       "      <td>113</td>\n",
       "      <td>95</td>\n",
       "      <td>88</td>\n",
       "      <td>99.6</td>\n",
       "      <td>1</td>\n",
       "    </tr>\n",
       "    <tr>\n",
       "      <th>60</th>\n",
       "      <td>61</td>\n",
       "      <td>43</td>\n",
       "      <td>76.0</td>\n",
       "      <td>188.3</td>\n",
       "      <td>116</td>\n",
       "      <td>73</td>\n",
       "      <td>74</td>\n",
       "      <td>100.7</td>\n",
       "      <td>1</td>\n",
       "    </tr>\n",
       "    <tr>\n",
       "      <th>61</th>\n",
       "      <td>62</td>\n",
       "      <td>55</td>\n",
       "      <td>71.0</td>\n",
       "      <td>176.9</td>\n",
       "      <td>135</td>\n",
       "      <td>90</td>\n",
       "      <td>60</td>\n",
       "      <td>100.4</td>\n",
       "      <td>1</td>\n",
       "    </tr>\n",
       "    <tr>\n",
       "      <th>62</th>\n",
       "      <td>63</td>\n",
       "      <td>59</td>\n",
       "      <td>56.9</td>\n",
       "      <td>171.6</td>\n",
       "      <td>149</td>\n",
       "      <td>74</td>\n",
       "      <td>84</td>\n",
       "      <td>98.8</td>\n",
       "      <td>1</td>\n",
       "    </tr>\n",
       "    <tr>\n",
       "      <th>63</th>\n",
       "      <td>64</td>\n",
       "      <td>43</td>\n",
       "      <td>94.0</td>\n",
       "      <td>160.5</td>\n",
       "      <td>139</td>\n",
       "      <td>67</td>\n",
       "      <td>66</td>\n",
       "      <td>97.4</td>\n",
       "      <td>1</td>\n",
       "    </tr>\n",
       "  </tbody>\n",
       "</table>\n",
       "</div>"
      ],
      "text/plain": [
       "    ID  Age  Weight  Height  SystolicBP  DiastolicBP  HeartRate  Temperature  DiseaseOutcome\n",
       "59  60   30    55.9   160.4         113           95         88         99.6               1\n",
       "60  61   43    76.0   188.3         116           73         74        100.7               1\n",
       "61  62   55    71.0   176.9         135           90         60        100.4               1\n",
       "62  63   59    56.9   171.6         149           74         84         98.8               1\n",
       "63  64   43    94.0   160.5         139           67         66         97.4               1"
      ]
     },
     "execution_count": 6,
     "metadata": {},
     "output_type": "execute_result"
    }
   ],
   "source": [
    "loader.show_tail()"
   ]
  },
  {
   "cell_type": "code",
   "execution_count": 7,
   "id": "f091cad2",
   "metadata": {},
   "outputs": [
    {
     "name": "stdout",
     "output_type": "stream",
     "text": [
      "\n",
      "Statistical summary:\n"
     ]
    },
    {
     "data": {
      "text/html": [
       "<div>\n",
       "<style scoped>\n",
       "    .dataframe tbody tr th:only-of-type {\n",
       "        vertical-align: middle;\n",
       "    }\n",
       "\n",
       "    .dataframe tbody tr th {\n",
       "        vertical-align: top;\n",
       "    }\n",
       "\n",
       "    .dataframe thead th {\n",
       "        text-align: right;\n",
       "    }\n",
       "</style>\n",
       "<table border=\"1\" class=\"dataframe\">\n",
       "  <thead>\n",
       "    <tr style=\"text-align: right;\">\n",
       "      <th></th>\n",
       "      <th>ID</th>\n",
       "      <th>Age</th>\n",
       "      <th>Weight</th>\n",
       "      <th>Height</th>\n",
       "      <th>SystolicBP</th>\n",
       "      <th>DiastolicBP</th>\n",
       "      <th>HeartRate</th>\n",
       "      <th>Temperature</th>\n",
       "      <th>DiseaseOutcome</th>\n",
       "    </tr>\n",
       "  </thead>\n",
       "  <tbody>\n",
       "    <tr>\n",
       "      <th>count</th>\n",
       "      <td>64.000000</td>\n",
       "      <td>64.000000</td>\n",
       "      <td>64.000000</td>\n",
       "      <td>64.000000</td>\n",
       "      <td>64.000000</td>\n",
       "      <td>64.000000</td>\n",
       "      <td>64.000000</td>\n",
       "      <td>64.000000</td>\n",
       "      <td>64.000000</td>\n",
       "    </tr>\n",
       "    <tr>\n",
       "      <th>mean</th>\n",
       "      <td>32.500000</td>\n",
       "      <td>35.812500</td>\n",
       "      <td>75.868750</td>\n",
       "      <td>175.871875</td>\n",
       "      <td>130.156250</td>\n",
       "      <td>80.484375</td>\n",
       "      <td>78.265625</td>\n",
       "      <td>98.985938</td>\n",
       "      <td>0.671875</td>\n",
       "    </tr>\n",
       "    <tr>\n",
       "      <th>std</th>\n",
       "      <td>18.618987</td>\n",
       "      <td>10.375299</td>\n",
       "      <td>13.261723</td>\n",
       "      <td>9.628685</td>\n",
       "      <td>13.030147</td>\n",
       "      <td>8.543060</td>\n",
       "      <td>8.136225</td>\n",
       "      <td>0.892094</td>\n",
       "      <td>0.473242</td>\n",
       "    </tr>\n",
       "    <tr>\n",
       "      <th>min</th>\n",
       "      <td>1.000000</td>\n",
       "      <td>21.000000</td>\n",
       "      <td>55.000000</td>\n",
       "      <td>160.400000</td>\n",
       "      <td>101.000000</td>\n",
       "      <td>61.000000</td>\n",
       "      <td>60.000000</td>\n",
       "      <td>97.100000</td>\n",
       "      <td>0.000000</td>\n",
       "    </tr>\n",
       "    <tr>\n",
       "      <th>25%</th>\n",
       "      <td>16.750000</td>\n",
       "      <td>27.000000</td>\n",
       "      <td>64.650000</td>\n",
       "      <td>167.225000</td>\n",
       "      <td>119.750000</td>\n",
       "      <td>74.750000</td>\n",
       "      <td>73.750000</td>\n",
       "      <td>98.300000</td>\n",
       "      <td>0.000000</td>\n",
       "    </tr>\n",
       "    <tr>\n",
       "      <th>50%</th>\n",
       "      <td>32.500000</td>\n",
       "      <td>35.000000</td>\n",
       "      <td>74.500000</td>\n",
       "      <td>174.650000</td>\n",
       "      <td>130.500000</td>\n",
       "      <td>80.000000</td>\n",
       "      <td>80.000000</td>\n",
       "      <td>98.900000</td>\n",
       "      <td>1.000000</td>\n",
       "    </tr>\n",
       "    <tr>\n",
       "      <th>75%</th>\n",
       "      <td>48.250000</td>\n",
       "      <td>43.250000</td>\n",
       "      <td>87.175000</td>\n",
       "      <td>182.825000</td>\n",
       "      <td>141.000000</td>\n",
       "      <td>86.250000</td>\n",
       "      <td>84.000000</td>\n",
       "      <td>99.625000</td>\n",
       "      <td>1.000000</td>\n",
       "    </tr>\n",
       "    <tr>\n",
       "      <th>max</th>\n",
       "      <td>64.000000</td>\n",
       "      <td>59.000000</td>\n",
       "      <td>100.000000</td>\n",
       "      <td>194.500000</td>\n",
       "      <td>150.000000</td>\n",
       "      <td>95.000000</td>\n",
       "      <td>99.000000</td>\n",
       "      <td>100.700000</td>\n",
       "      <td>1.000000</td>\n",
       "    </tr>\n",
       "  </tbody>\n",
       "</table>\n",
       "</div>"
      ],
      "text/plain": [
       "              ID        Age      Weight      Height  SystolicBP  DiastolicBP  HeartRate  Temperature  DiseaseOutcome\n",
       "count  64.000000  64.000000   64.000000   64.000000   64.000000    64.000000  64.000000    64.000000       64.000000\n",
       "mean   32.500000  35.812500   75.868750  175.871875  130.156250    80.484375  78.265625    98.985938        0.671875\n",
       "std    18.618987  10.375299   13.261723    9.628685   13.030147     8.543060   8.136225     0.892094        0.473242\n",
       "min     1.000000  21.000000   55.000000  160.400000  101.000000    61.000000  60.000000    97.100000        0.000000\n",
       "25%    16.750000  27.000000   64.650000  167.225000  119.750000    74.750000  73.750000    98.300000        0.000000\n",
       "50%    32.500000  35.000000   74.500000  174.650000  130.500000    80.000000  80.000000    98.900000        1.000000\n",
       "75%    48.250000  43.250000   87.175000  182.825000  141.000000    86.250000  84.000000    99.625000        1.000000\n",
       "max    64.000000  59.000000  100.000000  194.500000  150.000000    95.000000  99.000000   100.700000        1.000000"
      ]
     },
     "execution_count": 7,
     "metadata": {},
     "output_type": "execute_result"
    }
   ],
   "source": [
    "loader.show_description()"
   ]
  },
  {
   "cell_type": "code",
   "execution_count": 8,
   "id": "f63106a7",
   "metadata": {},
   "outputs": [
    {
     "name": "stdout",
     "output_type": "stream",
     "text": [
      "/nDataset information :\n",
      "<class 'pandas.core.frame.DataFrame'>\n",
      "RangeIndex: 64 entries, 0 to 63\n",
      "Data columns (total 9 columns):\n",
      " #   Column          Non-Null Count  Dtype  \n",
      "---  ------          --------------  -----  \n",
      " 0   ID              64 non-null     int64  \n",
      " 1   Age             64 non-null     int64  \n",
      " 2   Weight          64 non-null     float64\n",
      " 3   Height          64 non-null     float64\n",
      " 4   SystolicBP      64 non-null     int64  \n",
      " 5   DiastolicBP     64 non-null     int64  \n",
      " 6   HeartRate       64 non-null     int64  \n",
      " 7   Temperature     64 non-null     float64\n",
      " 8   DiseaseOutcome  64 non-null     int64  \n",
      "dtypes: float64(3), int64(6)\n",
      "memory usage: 4.6 KB\n"
     ]
    }
   ],
   "source": [
    "loader.show_info()"
   ]
  },
  {
   "cell_type": "markdown",
   "id": "6c54bf38",
   "metadata": {},
   "source": [
    "## **Data Cleaning and Preprocessing**\n",
    "\n",
    "We create a new class called `DataCleaner` to handle preprocessing tasks before training a machine learning model.\n",
    "\n",
    "### Tasks Performed:\n",
    "\n",
    "1. **Null Value Handling**\n",
    "   - We check for missing (null) values in the dataset.\n",
    "   - If any are found, we decide whether to:\n",
    "     - Drop them\n",
    "     - Fill them with statistical values (like mean or median)\n",
    "\n",
    "2. **Zero Value Handling**\n",
    "   - In medical datasets like this, some features may have zero values which are **not valid** (e.g., 0 Systolic and Diastolic blood pressure are not realistic).\n",
    "   - We treat zeros as missing values **in specific columns only**, and then replace them using:\n",
    "     - **Mean or Median**, depending on the distribution of the column.\n",
    "\n",
    "3. **Column Renaming**\n",
    "   - Columns with long names are converted to **abbreviations or simpler names** to improve readability and code simplicity.\n",
    "  \n",
    "   - ID : \"ID\"\n",
    "   - Age : \"Age\" \n",
    "   - Weight : \"Weight\"\n",
    "   - Height : \"Height\"\n",
    "   - SystolicBP : \"SBP\"\n",
    "   - DiastolicBP : \"DBP\" \n",
    "   - HeartRate : \"HR\"\n",
    "   - Temperature : \"Temp\"\n",
    "   - DiseaseOutcome : \"DO\"\n",
    "\n"
   ]
  },
  {
   "cell_type": "code",
   "execution_count": 9,
   "id": "43f29180",
   "metadata": {},
   "outputs": [],
   "source": [
    "class DataCleaner:\n",
    "    def __init__(self, dataframe):\n",
    "        self.df = dataframe.copy()\n",
    "\n",
    "    def check_nulls(self):\n",
    "        print(\"\\nChecking for null values:\")\n",
    "        return self.df.isnull().sum()\n",
    "\n",
    "    def replace_zeros(self):\n",
    "        print(\"\\nHandling zero values in selected columns...\")\n",
    "        # Columns where zero is not a valid value \n",
    "        cols_with_invalid_zeros = ['ID', 'Height', 'Weight', 'SystolicBP', 'Temperature']\n",
    "\n",
    "        for col in cols_with_invalid_zeros:\n",
    "            zero_count = (self.df[col] == 0).sum()\n",
    "            median_value = self.df[self.df[col] != 0][col].median()\n",
    "            print(f\"Column '{col}' with median value: {median_value}\")\n",
    "\n",
    "    def rename_columns(self):\n",
    "        renamed_columns = {\n",
    "                'ID': 'ID',\n",
    "                'Age': 'Age', \n",
    "                'Weight': 'Weight',\n",
    "                'Height': 'Height',\n",
    "                'SystolicBP': 'SBP',\n",
    "                'DiastolicBP': 'DBP',\n",
    "                'HeartRate': 'HR',\n",
    "                'Temperature': 'Temp',\n",
    "                'DiseaseOutcome': 'DO'\n",
    "\n",
    "                }\n",
    "\n",
    "        self.df.rename(columns=renamed_columns, inplace= True)\n",
    "        print(\"Renamed columns successfully.\")\n",
    "\n",
    "    def get_clean_data(self):\n",
    "        return self.df\n",
    "        "
   ]
  },
  {
   "cell_type": "code",
   "execution_count": 10,
   "id": "6d665d11",
   "metadata": {},
   "outputs": [
    {
     "name": "stdout",
     "output_type": "stream",
     "text": [
      "\n",
      "Checking for null values:\n"
     ]
    },
    {
     "data": {
      "text/plain": [
       "ID                0\n",
       "Age               0\n",
       "Weight            0\n",
       "Height            0\n",
       "SystolicBP        0\n",
       "DiastolicBP       0\n",
       "HeartRate         0\n",
       "Temperature       0\n",
       "DiseaseOutcome    0\n",
       "dtype: int64"
      ]
     },
     "execution_count": 10,
     "metadata": {},
     "output_type": "execute_result"
    }
   ],
   "source": [
    "loader = dataloader(\"people_data.csv\")\n",
    "loader.load_data()\n",
    "df = loader.df\n",
    "cleaner = DataCleaner(df)\n",
    "cleaner.check_nulls()\n"
   ]
  },
  {
   "cell_type": "code",
   "execution_count": 11,
   "id": "f6173ddc",
   "metadata": {},
   "outputs": [
    {
     "name": "stdout",
     "output_type": "stream",
     "text": [
      "\n",
      "Handling zero values in selected columns...\n",
      "Column 'ID' with median value: 32.5\n",
      "Column 'Height' with median value: 174.65\n",
      "Column 'Weight' with median value: 74.5\n",
      "Column 'SystolicBP' with median value: 130.5\n",
      "Column 'Temperature' with median value: 98.9\n"
     ]
    }
   ],
   "source": [
    "cleaner.replace_zeros()"
   ]
  },
  {
   "cell_type": "code",
   "execution_count": 12,
   "id": "163e6d32",
   "metadata": {},
   "outputs": [
    {
     "name": "stdout",
     "output_type": "stream",
     "text": [
      "Renamed columns successfully.\n"
     ]
    }
   ],
   "source": [
    "cleaner.rename_columns()"
   ]
  },
  {
   "cell_type": "code",
   "execution_count": 13,
   "id": "5150ba32",
   "metadata": {},
   "outputs": [
    {
     "data": {
      "text/html": [
       "<div>\n",
       "<style scoped>\n",
       "    .dataframe tbody tr th:only-of-type {\n",
       "        vertical-align: middle;\n",
       "    }\n",
       "\n",
       "    .dataframe tbody tr th {\n",
       "        vertical-align: top;\n",
       "    }\n",
       "\n",
       "    .dataframe thead th {\n",
       "        text-align: right;\n",
       "    }\n",
       "</style>\n",
       "<table border=\"1\" class=\"dataframe\">\n",
       "  <thead>\n",
       "    <tr style=\"text-align: right;\">\n",
       "      <th></th>\n",
       "      <th>ID</th>\n",
       "      <th>Age</th>\n",
       "      <th>Weight</th>\n",
       "      <th>Height</th>\n",
       "      <th>SBP</th>\n",
       "      <th>DBP</th>\n",
       "      <th>HR</th>\n",
       "      <th>Temp</th>\n",
       "      <th>DO</th>\n",
       "    </tr>\n",
       "  </thead>\n",
       "  <tbody>\n",
       "    <tr>\n",
       "      <th>0</th>\n",
       "      <td>1</td>\n",
       "      <td>25</td>\n",
       "      <td>68.5</td>\n",
       "      <td>172.2</td>\n",
       "      <td>120</td>\n",
       "      <td>80</td>\n",
       "      <td>75</td>\n",
       "      <td>98.6</td>\n",
       "      <td>0</td>\n",
       "    </tr>\n",
       "    <tr>\n",
       "      <th>1</th>\n",
       "      <td>2</td>\n",
       "      <td>30</td>\n",
       "      <td>75.0</td>\n",
       "      <td>180.5</td>\n",
       "      <td>130</td>\n",
       "      <td>85</td>\n",
       "      <td>80</td>\n",
       "      <td>99.1</td>\n",
       "      <td>0</td>\n",
       "    </tr>\n",
       "    <tr>\n",
       "      <th>2</th>\n",
       "      <td>3</td>\n",
       "      <td>22</td>\n",
       "      <td>60.2</td>\n",
       "      <td>165.3</td>\n",
       "      <td>110</td>\n",
       "      <td>70</td>\n",
       "      <td>65</td>\n",
       "      <td>97.9</td>\n",
       "      <td>0</td>\n",
       "    </tr>\n",
       "    <tr>\n",
       "      <th>3</th>\n",
       "      <td>4</td>\n",
       "      <td>28</td>\n",
       "      <td>82.1</td>\n",
       "      <td>178.0</td>\n",
       "      <td>140</td>\n",
       "      <td>90</td>\n",
       "      <td>85</td>\n",
       "      <td>100.2</td>\n",
       "      <td>1</td>\n",
       "    </tr>\n",
       "    <tr>\n",
       "      <th>4</th>\n",
       "      <td>5</td>\n",
       "      <td>35</td>\n",
       "      <td>90.0</td>\n",
       "      <td>185.4</td>\n",
       "      <td>135</td>\n",
       "      <td>88</td>\n",
       "      <td>82</td>\n",
       "      <td>99.4</td>\n",
       "      <td>1</td>\n",
       "    </tr>\n",
       "    <tr>\n",
       "      <th>...</th>\n",
       "      <td>...</td>\n",
       "      <td>...</td>\n",
       "      <td>...</td>\n",
       "      <td>...</td>\n",
       "      <td>...</td>\n",
       "      <td>...</td>\n",
       "      <td>...</td>\n",
       "      <td>...</td>\n",
       "      <td>...</td>\n",
       "    </tr>\n",
       "    <tr>\n",
       "      <th>59</th>\n",
       "      <td>60</td>\n",
       "      <td>30</td>\n",
       "      <td>55.9</td>\n",
       "      <td>160.4</td>\n",
       "      <td>113</td>\n",
       "      <td>95</td>\n",
       "      <td>88</td>\n",
       "      <td>99.6</td>\n",
       "      <td>1</td>\n",
       "    </tr>\n",
       "    <tr>\n",
       "      <th>60</th>\n",
       "      <td>61</td>\n",
       "      <td>43</td>\n",
       "      <td>76.0</td>\n",
       "      <td>188.3</td>\n",
       "      <td>116</td>\n",
       "      <td>73</td>\n",
       "      <td>74</td>\n",
       "      <td>100.7</td>\n",
       "      <td>1</td>\n",
       "    </tr>\n",
       "    <tr>\n",
       "      <th>61</th>\n",
       "      <td>62</td>\n",
       "      <td>55</td>\n",
       "      <td>71.0</td>\n",
       "      <td>176.9</td>\n",
       "      <td>135</td>\n",
       "      <td>90</td>\n",
       "      <td>60</td>\n",
       "      <td>100.4</td>\n",
       "      <td>1</td>\n",
       "    </tr>\n",
       "    <tr>\n",
       "      <th>62</th>\n",
       "      <td>63</td>\n",
       "      <td>59</td>\n",
       "      <td>56.9</td>\n",
       "      <td>171.6</td>\n",
       "      <td>149</td>\n",
       "      <td>74</td>\n",
       "      <td>84</td>\n",
       "      <td>98.8</td>\n",
       "      <td>1</td>\n",
       "    </tr>\n",
       "    <tr>\n",
       "      <th>63</th>\n",
       "      <td>64</td>\n",
       "      <td>43</td>\n",
       "      <td>94.0</td>\n",
       "      <td>160.5</td>\n",
       "      <td>139</td>\n",
       "      <td>67</td>\n",
       "      <td>66</td>\n",
       "      <td>97.4</td>\n",
       "      <td>1</td>\n",
       "    </tr>\n",
       "  </tbody>\n",
       "</table>\n",
       "<p>64 rows × 9 columns</p>\n",
       "</div>"
      ],
      "text/plain": [
       "    ID  Age  Weight  Height  SBP  DBP  HR   Temp  DO\n",
       "0    1   25    68.5   172.2  120   80  75   98.6   0\n",
       "1    2   30    75.0   180.5  130   85  80   99.1   0\n",
       "2    3   22    60.2   165.3  110   70  65   97.9   0\n",
       "3    4   28    82.1   178.0  140   90  85  100.2   1\n",
       "4    5   35    90.0   185.4  135   88  82   99.4   1\n",
       "..  ..  ...     ...     ...  ...  ...  ..    ...  ..\n",
       "59  60   30    55.9   160.4  113   95  88   99.6   1\n",
       "60  61   43    76.0   188.3  116   73  74  100.7   1\n",
       "61  62   55    71.0   176.9  135   90  60  100.4   1\n",
       "62  63   59    56.9   171.6  149   74  84   98.8   1\n",
       "63  64   43    94.0   160.5  139   67  66   97.4   1\n",
       "\n",
       "[64 rows x 9 columns]"
      ]
     },
     "execution_count": 13,
     "metadata": {},
     "output_type": "execute_result"
    }
   ],
   "source": [
    "# Get the cleaned and updated dataframe\n",
    "cleaned_df = cleaner.get_clean_data()\n",
    "cleaned_df"
   ]
  },
  {
   "cell_type": "markdown",
   "id": "b10b164a",
   "metadata": {},
   "source": [
    "## **Statistical Analysis of Dataset**\n",
    "\n",
    "We define a class named `DataStatistics` that gives a deeper insight into the dataset. While `describe()` gives a general overview, we often need specific statistics to make informed decisions about:\n",
    "\n",
    "- Feature distributions\n",
    "- Skewness or symmetry\n",
    "- Outliers detection\n",
    "- Feature scaling requirements\n",
    "\n",
    "### Tasks Performed:\n",
    "\n",
    "1. **Mean** - Average of each feature\n",
    "2. **Median** - Middle value (less sensitive to outliers)\n",
    "3. **Mode** - Most frequent value in each column\n",
    "4. **Max** - Maximum value of each feature\n",
    "5. **Min** - Minimum value of each feature\n",
    "6. **Standard Deviation (std)** - Spread of values\n",
    "7. **Variance** - Square of standard deviation\n",
    "8. **Count** - Number of non-null entries per column\n",
    "\n",
    "This class helps us understand how each feature behaves statistically, which is crucial for preprocessing and model building.\n"
   ]
  },
  {
   "cell_type": "code",
   "execution_count": 14,
   "id": "bd477306",
   "metadata": {},
   "outputs": [],
   "source": [
    "class DataStatistics:\n",
    "    def __init__(self, dataframe):\n",
    "        self.df = dataframe.copy()\n",
    "    \n",
    "    def show_mean(self):\n",
    "        print(\"\\nMean of each column:\")\n",
    "        return self.df.mean()\n",
    "    def show_median(self):\n",
    "        print(\"\\nMedian of each column:\")\n",
    "        return self.df.median()\n",
    "    def show_mode(self):\n",
    "        print(\"\\nMode of each column:\")\n",
    "        return self.df.mode()\n",
    "    def show_max(self):\n",
    "        print(\"\\nMaximum value in each column:\")\n",
    "        return self.df.max()\n",
    "    def show_min(self):\n",
    "        print(\"\\nMinimum value in each column:\")\n",
    "        return self.df.min()\n",
    "    def show_std(self):\n",
    "        print(\"\\nStandard Deviation of each column:\")\n",
    "        return self.df.std()\n",
    "    def show_variance(self):\n",
    "        print(\"\\nVariance of each column:\")\n",
    "        return self.df.var()\n",
    "    def show_count(self):\n",
    "        print(\"\\nCount of non-null values in each column:\")\n",
    "        return self.df.count()"
   ]
  },
  {
   "cell_type": "code",
   "execution_count": 15,
   "id": "527488f5",
   "metadata": {},
   "outputs": [
    {
     "name": "stdout",
     "output_type": "stream",
     "text": [
      "\n",
      "Mean of each column:\n"
     ]
    },
    {
     "data": {
      "text/plain": [
       "ID         32.500000\n",
       "Age        35.812500\n",
       "Weight     75.868750\n",
       "Height    175.871875\n",
       "SBP       130.156250\n",
       "DBP        80.484375\n",
       "HR         78.265625\n",
       "Temp       98.985938\n",
       "DO          0.671875\n",
       "dtype: float64"
      ]
     },
     "execution_count": 15,
     "metadata": {},
     "output_type": "execute_result"
    }
   ],
   "source": [
    "# Assuming 'cleaned_df' is the dataframe after cleaning\n",
    "stats = DataStatistics(cleaned_df)\n",
    "\n",
    "stats.show_mean()"
   ]
  },
  {
   "cell_type": "code",
   "execution_count": 16,
   "id": "e66b5534",
   "metadata": {},
   "outputs": [
    {
     "name": "stdout",
     "output_type": "stream",
     "text": [
      "\n",
      "Median of each column:\n"
     ]
    },
    {
     "data": {
      "text/plain": [
       "ID         32.50\n",
       "Age        35.00\n",
       "Weight     74.50\n",
       "Height    174.65\n",
       "SBP       130.50\n",
       "DBP        80.00\n",
       "HR         80.00\n",
       "Temp       98.90\n",
       "DO          1.00\n",
       "dtype: float64"
      ]
     },
     "execution_count": 16,
     "metadata": {},
     "output_type": "execute_result"
    }
   ],
   "source": [
    "stats.show_median()"
   ]
  },
  {
   "cell_type": "code",
   "execution_count": 17,
   "id": "458ee4da",
   "metadata": {},
   "outputs": [
    {
     "name": "stdout",
     "output_type": "stream",
     "text": [
      "\n",
      "Mode of each column:\n"
     ]
    },
    {
     "data": {
      "text/html": [
       "<div>\n",
       "<style scoped>\n",
       "    .dataframe tbody tr th:only-of-type {\n",
       "        vertical-align: middle;\n",
       "    }\n",
       "\n",
       "    .dataframe tbody tr th {\n",
       "        vertical-align: top;\n",
       "    }\n",
       "\n",
       "    .dataframe thead th {\n",
       "        text-align: right;\n",
       "    }\n",
       "</style>\n",
       "<table border=\"1\" class=\"dataframe\">\n",
       "  <thead>\n",
       "    <tr style=\"text-align: right;\">\n",
       "      <th></th>\n",
       "      <th>ID</th>\n",
       "      <th>Age</th>\n",
       "      <th>Weight</th>\n",
       "      <th>Height</th>\n",
       "      <th>SBP</th>\n",
       "      <th>DBP</th>\n",
       "      <th>HR</th>\n",
       "      <th>Temp</th>\n",
       "      <th>DO</th>\n",
       "    </tr>\n",
       "  </thead>\n",
       "  <tbody>\n",
       "    <tr>\n",
       "      <th>0</th>\n",
       "      <td>1</td>\n",
       "      <td>38.0</td>\n",
       "      <td>55.3</td>\n",
       "      <td>162.7</td>\n",
       "      <td>127.0</td>\n",
       "      <td>85.0</td>\n",
       "      <td>82.0</td>\n",
       "      <td>98.0</td>\n",
       "      <td>1.0</td>\n",
       "    </tr>\n",
       "    <tr>\n",
       "      <th>1</th>\n",
       "      <td>2</td>\n",
       "      <td>NaN</td>\n",
       "      <td>64.0</td>\n",
       "      <td>164.9</td>\n",
       "      <td>129.0</td>\n",
       "      <td>NaN</td>\n",
       "      <td>NaN</td>\n",
       "      <td>98.3</td>\n",
       "      <td>NaN</td>\n",
       "    </tr>\n",
       "    <tr>\n",
       "      <th>2</th>\n",
       "      <td>3</td>\n",
       "      <td>NaN</td>\n",
       "      <td>79.5</td>\n",
       "      <td>174.0</td>\n",
       "      <td>130.0</td>\n",
       "      <td>NaN</td>\n",
       "      <td>NaN</td>\n",
       "      <td>98.6</td>\n",
       "      <td>NaN</td>\n",
       "    </tr>\n",
       "    <tr>\n",
       "      <th>3</th>\n",
       "      <td>4</td>\n",
       "      <td>NaN</td>\n",
       "      <td>85.5</td>\n",
       "      <td>182.2</td>\n",
       "      <td>138.0</td>\n",
       "      <td>NaN</td>\n",
       "      <td>NaN</td>\n",
       "      <td>NaN</td>\n",
       "      <td>NaN</td>\n",
       "    </tr>\n",
       "    <tr>\n",
       "      <th>4</th>\n",
       "      <td>5</td>\n",
       "      <td>NaN</td>\n",
       "      <td>97.1</td>\n",
       "      <td>185.4</td>\n",
       "      <td>139.0</td>\n",
       "      <td>NaN</td>\n",
       "      <td>NaN</td>\n",
       "      <td>NaN</td>\n",
       "      <td>NaN</td>\n",
       "    </tr>\n",
       "    <tr>\n",
       "      <th>...</th>\n",
       "      <td>...</td>\n",
       "      <td>...</td>\n",
       "      <td>...</td>\n",
       "      <td>...</td>\n",
       "      <td>...</td>\n",
       "      <td>...</td>\n",
       "      <td>...</td>\n",
       "      <td>...</td>\n",
       "      <td>...</td>\n",
       "    </tr>\n",
       "    <tr>\n",
       "      <th>59</th>\n",
       "      <td>60</td>\n",
       "      <td>NaN</td>\n",
       "      <td>NaN</td>\n",
       "      <td>NaN</td>\n",
       "      <td>NaN</td>\n",
       "      <td>NaN</td>\n",
       "      <td>NaN</td>\n",
       "      <td>NaN</td>\n",
       "      <td>NaN</td>\n",
       "    </tr>\n",
       "    <tr>\n",
       "      <th>60</th>\n",
       "      <td>61</td>\n",
       "      <td>NaN</td>\n",
       "      <td>NaN</td>\n",
       "      <td>NaN</td>\n",
       "      <td>NaN</td>\n",
       "      <td>NaN</td>\n",
       "      <td>NaN</td>\n",
       "      <td>NaN</td>\n",
       "      <td>NaN</td>\n",
       "    </tr>\n",
       "    <tr>\n",
       "      <th>61</th>\n",
       "      <td>62</td>\n",
       "      <td>NaN</td>\n",
       "      <td>NaN</td>\n",
       "      <td>NaN</td>\n",
       "      <td>NaN</td>\n",
       "      <td>NaN</td>\n",
       "      <td>NaN</td>\n",
       "      <td>NaN</td>\n",
       "      <td>NaN</td>\n",
       "    </tr>\n",
       "    <tr>\n",
       "      <th>62</th>\n",
       "      <td>63</td>\n",
       "      <td>NaN</td>\n",
       "      <td>NaN</td>\n",
       "      <td>NaN</td>\n",
       "      <td>NaN</td>\n",
       "      <td>NaN</td>\n",
       "      <td>NaN</td>\n",
       "      <td>NaN</td>\n",
       "      <td>NaN</td>\n",
       "    </tr>\n",
       "    <tr>\n",
       "      <th>63</th>\n",
       "      <td>64</td>\n",
       "      <td>NaN</td>\n",
       "      <td>NaN</td>\n",
       "      <td>NaN</td>\n",
       "      <td>NaN</td>\n",
       "      <td>NaN</td>\n",
       "      <td>NaN</td>\n",
       "      <td>NaN</td>\n",
       "      <td>NaN</td>\n",
       "    </tr>\n",
       "  </tbody>\n",
       "</table>\n",
       "<p>64 rows × 9 columns</p>\n",
       "</div>"
      ],
      "text/plain": [
       "    ID   Age  Weight  Height    SBP   DBP    HR  Temp   DO\n",
       "0    1  38.0    55.3   162.7  127.0  85.0  82.0  98.0  1.0\n",
       "1    2   NaN    64.0   164.9  129.0   NaN   NaN  98.3  NaN\n",
       "2    3   NaN    79.5   174.0  130.0   NaN   NaN  98.6  NaN\n",
       "3    4   NaN    85.5   182.2  138.0   NaN   NaN   NaN  NaN\n",
       "4    5   NaN    97.1   185.4  139.0   NaN   NaN   NaN  NaN\n",
       "..  ..   ...     ...     ...    ...   ...   ...   ...  ...\n",
       "59  60   NaN     NaN     NaN    NaN   NaN   NaN   NaN  NaN\n",
       "60  61   NaN     NaN     NaN    NaN   NaN   NaN   NaN  NaN\n",
       "61  62   NaN     NaN     NaN    NaN   NaN   NaN   NaN  NaN\n",
       "62  63   NaN     NaN     NaN    NaN   NaN   NaN   NaN  NaN\n",
       "63  64   NaN     NaN     NaN    NaN   NaN   NaN   NaN  NaN\n",
       "\n",
       "[64 rows x 9 columns]"
      ]
     },
     "execution_count": 17,
     "metadata": {},
     "output_type": "execute_result"
    }
   ],
   "source": [
    "stats.show_mode()"
   ]
  },
  {
   "cell_type": "code",
   "execution_count": 18,
   "id": "cfe6ffce",
   "metadata": {},
   "outputs": [
    {
     "name": "stdout",
     "output_type": "stream",
     "text": [
      "\n",
      "Maximum value in each column:\n"
     ]
    },
    {
     "data": {
      "text/plain": [
       "ID         64.0\n",
       "Age        59.0\n",
       "Weight    100.0\n",
       "Height    194.5\n",
       "SBP       150.0\n",
       "DBP        95.0\n",
       "HR         99.0\n",
       "Temp      100.7\n",
       "DO          1.0\n",
       "dtype: float64"
      ]
     },
     "execution_count": 18,
     "metadata": {},
     "output_type": "execute_result"
    }
   ],
   "source": [
    "stats.show_max()"
   ]
  },
  {
   "cell_type": "code",
   "execution_count": 19,
   "id": "2aed3950",
   "metadata": {},
   "outputs": [
    {
     "name": "stdout",
     "output_type": "stream",
     "text": [
      "\n",
      "Minimum value in each column:\n"
     ]
    },
    {
     "data": {
      "text/plain": [
       "ID          1.0\n",
       "Age        21.0\n",
       "Weight     55.0\n",
       "Height    160.4\n",
       "SBP       101.0\n",
       "DBP        61.0\n",
       "HR         60.0\n",
       "Temp       97.1\n",
       "DO          0.0\n",
       "dtype: float64"
      ]
     },
     "execution_count": 19,
     "metadata": {},
     "output_type": "execute_result"
    }
   ],
   "source": [
    "stats.show_min()"
   ]
  },
  {
   "cell_type": "code",
   "execution_count": 20,
   "id": "82d4bf7d",
   "metadata": {},
   "outputs": [
    {
     "name": "stdout",
     "output_type": "stream",
     "text": [
      "\n",
      "Standard Deviation of each column:\n"
     ]
    },
    {
     "data": {
      "text/plain": [
       "ID        18.618987\n",
       "Age       10.375299\n",
       "Weight    13.261723\n",
       "Height     9.628685\n",
       "SBP       13.030147\n",
       "DBP        8.543060\n",
       "HR         8.136225\n",
       "Temp       0.892094\n",
       "DO         0.473242\n",
       "dtype: float64"
      ]
     },
     "execution_count": 20,
     "metadata": {},
     "output_type": "execute_result"
    }
   ],
   "source": [
    "stats.show_std()"
   ]
  },
  {
   "cell_type": "code",
   "execution_count": 21,
   "id": "299dd70b",
   "metadata": {},
   "outputs": [
    {
     "name": "stdout",
     "output_type": "stream",
     "text": [
      "\n",
      "Variance of each column:\n"
     ]
    },
    {
     "data": {
      "text/plain": [
       "ID        346.666667\n",
       "Age       107.646825\n",
       "Weight    175.873294\n",
       "Height     92.711577\n",
       "SBP       169.784722\n",
       "DBP        72.983879\n",
       "HR         66.198165\n",
       "Temp        0.795831\n",
       "DO          0.223958\n",
       "dtype: float64"
      ]
     },
     "execution_count": 21,
     "metadata": {},
     "output_type": "execute_result"
    }
   ],
   "source": [
    "stats.show_variance()"
   ]
  },
  {
   "cell_type": "code",
   "execution_count": 22,
   "id": "3259c771",
   "metadata": {},
   "outputs": [
    {
     "name": "stdout",
     "output_type": "stream",
     "text": [
      "\n",
      "Count of non-null values in each column:\n"
     ]
    },
    {
     "data": {
      "text/plain": [
       "ID        64\n",
       "Age       64\n",
       "Weight    64\n",
       "Height    64\n",
       "SBP       64\n",
       "DBP       64\n",
       "HR        64\n",
       "Temp      64\n",
       "DO        64\n",
       "dtype: int64"
      ]
     },
     "execution_count": 22,
     "metadata": {},
     "output_type": "execute_result"
    }
   ],
   "source": [
    "stats.show_count()"
   ]
  },
  {
   "cell_type": "markdown",
   "id": "9048e4a1",
   "metadata": {},
   "source": [
    "## **Exploratory Data Analysis: Univariate & Bivariate**\n",
    "\n",
    "We define two separate classes to perform core EDA tasks:\n",
    "\n",
    "## 1. Univariate Analysis\n",
    "Focuses on a single feature to understand:\n",
    "- Its distribution\n",
    "- Central tendency\n",
    "- Spread\n",
    "- Number of unique values\n",
    "- Value counts for categorical-like features"
   ]
  },
  {
   "cell_type": "code",
   "execution_count": 23,
   "id": "54704e7a",
   "metadata": {},
   "outputs": [],
   "source": [
    "class UnivariateAnalysis:\n",
    "    def __init__(self, dataframe):\n",
    "        self.df = dataframe.copy()\n",
    "\n",
    "    def unique_counts(self, column):\n",
    "        print(f\"\\nUnique values in '{column}':\")\n",
    "        return self.df[column].nunique()\n",
    "\n",
    "    def value_counts(self, column):\n",
    "        print(f\"\\nValue counts in '{column}':\")\n",
    "        return self.df[column].value_counts()\n",
    "\n",
    "    def column_summary(self, column):\n",
    "        print(f\"\\nSummary statistics for '{column}':\")\n",
    "        return self.df[column].describe()\n",
    "\n",
    "    def check_skewness(self, column):\n",
    "        return f\"\\nSkewness of '{column}': {self.df[column].skew()}\"\n",
    "\n",
    "    def check_kurtosis(self, column):\n",
    "        return f\"\\nKurtosis of '{column}': {self.df[column].kurt()}\"\n"
   ]
  },
  {
   "cell_type": "code",
   "execution_count": 24,
   "id": "2d7fb613",
   "metadata": {},
   "outputs": [
    {
     "name": "stdout",
     "output_type": "stream",
     "text": [
      "\n",
      "Unique values in 'Age':\n"
     ]
    },
    {
     "data": {
      "text/plain": [
       "31"
      ]
     },
     "execution_count": 24,
     "metadata": {},
     "output_type": "execute_result"
    }
   ],
   "source": [
    "# Univariate\n",
    "uni = UnivariateAnalysis(cleaned_df)\n",
    "uni.unique_counts('Age')"
   ]
  },
  {
   "cell_type": "code",
   "execution_count": 25,
   "id": "47d0c7f2",
   "metadata": {},
   "outputs": [
    {
     "name": "stdout",
     "output_type": "stream",
     "text": [
      "\n",
      "Value counts in 'SBP':\n"
     ]
    },
    {
     "data": {
      "text/plain": [
       "SBP\n",
       "130    3\n",
       "129    3\n",
       "139    3\n",
       "143    3\n",
       "127    3\n",
       "138    3\n",
       "110    2\n",
       "141    2\n",
       "146    2\n",
       "113    2\n",
       "149    2\n",
       "135    2\n",
       "116    2\n",
       "147    2\n",
       "142    2\n",
       "148    2\n",
       "136    2\n",
       "111    2\n",
       "119    2\n",
       "125    1\n",
       "145    1\n",
       "140    1\n",
       "120    1\n",
       "124    1\n",
       "126    1\n",
       "150    1\n",
       "115    1\n",
       "128    1\n",
       "133    1\n",
       "122    1\n",
       "108    1\n",
       "118    1\n",
       "132    1\n",
       "121    1\n",
       "131    1\n",
       "101    1\n",
       "106    1\n",
       "107    1\n",
       "134    1\n",
       "Name: count, dtype: int64"
      ]
     },
     "execution_count": 25,
     "metadata": {},
     "output_type": "execute_result"
    }
   ],
   "source": [
    "uni.value_counts('SBP')"
   ]
  },
  {
   "cell_type": "code",
   "execution_count": 26,
   "id": "b60439a6",
   "metadata": {},
   "outputs": [
    {
     "name": "stdout",
     "output_type": "stream",
     "text": [
      "\n",
      "Summary statistics for 'HR':\n"
     ]
    },
    {
     "data": {
      "text/plain": [
       "count    64.000000\n",
       "mean     78.265625\n",
       "std       8.136225\n",
       "min      60.000000\n",
       "25%      73.750000\n",
       "50%      80.000000\n",
       "75%      84.000000\n",
       "max      99.000000\n",
       "Name: HR, dtype: float64"
      ]
     },
     "execution_count": 26,
     "metadata": {},
     "output_type": "execute_result"
    }
   ],
   "source": [
    "uni.column_summary('HR')"
   ]
  },
  {
   "cell_type": "code",
   "execution_count": 27,
   "id": "c702bf18",
   "metadata": {},
   "outputs": [
    {
     "data": {
      "text/plain": [
       "\"\\nSkewness of 'Height': 0.20483445577993556\""
      ]
     },
     "execution_count": 27,
     "metadata": {},
     "output_type": "execute_result"
    }
   ],
   "source": [
    "uni.check_skewness('Height')"
   ]
  },
  {
   "cell_type": "code",
   "execution_count": 28,
   "id": "b0e6b862",
   "metadata": {},
   "outputs": [
    {
     "data": {
      "text/plain": [
       "\"\\nKurtosis of 'Temp': -0.7470812034480812\""
      ]
     },
     "execution_count": 28,
     "metadata": {},
     "output_type": "execute_result"
    }
   ],
   "source": [
    "uni.check_kurtosis('Temp')"
   ]
  },
  {
   "cell_type": "markdown",
   "id": "4e450bea",
   "metadata": {},
   "source": [
    "## **2. Bivariate Analysis**\n",
    "Focuses on the relationship between two variables:\n",
    "- Correlation\n",
    "- Covariance\n",
    "- Group-wise statistics (mean, count, etc.)\n",
    "- Crosstab for categorical combinations\n",
    "\n",
    "These classes help break down the dataset into understandable chunks so that patterns can emerge before we jump into modeling."
   ]
  },
  {
   "cell_type": "code",
   "execution_count": 29,
   "id": "f6bf3352",
   "metadata": {},
   "outputs": [],
   "source": [
    "class BivariateAnalysis:\n",
    "    def __init__(self, dataframe):\n",
    "        self.df = dataframe.copy()\n",
    "\n",
    "    def correlation_matrix(self):\n",
    "        print(\"\\nCorrelation matrix:\")\n",
    "        print(self.df.corr())\n",
    "\n",
    "    def covariance_matrix(self):\n",
    "        print(\"\\nCovariance matrix:\")\n",
    "        print(self.df.cov())\n",
    "\n",
    "    def group_mean_by_target(self, target_col):\n",
    "        print(f\"\\nMean of each feature grouped by '{target_col}':\")\n",
    "        print(self.df.groupby(target_col).mean())\n",
    "\n",
    "    def group_count_by_target(self, target_col):\n",
    "        print(f\"\\nCount of entries grouped by '{target_col}':\")\n",
    "        print(self.df.groupby(target_col).count())\n",
    "\n",
    "    def crosstab_two_columns(self, col1, col2):\n",
    "        print(f\"\\nCrosstab between '{col1}' and '{col2}':\")\n",
    "        print(pd.crosstab(self.df[col1], self.df[col2]))\n"
   ]
  },
  {
   "cell_type": "code",
   "execution_count": 30,
   "id": "9de4c08e",
   "metadata": {},
   "outputs": [
    {
     "name": "stdout",
     "output_type": "stream",
     "text": [
      "\n",
      "Correlation matrix:\n",
      "              ID       Age    Weight    Height       SBP       DBP        HR      Temp        DO\n",
      "ID      1.000000  0.416181 -0.132085 -0.030564  0.018123 -0.274374  0.005606  0.079557  0.341373\n",
      "Age     0.416181  1.000000  0.040229  0.062850  0.029573 -0.003973  0.103078  0.251292  0.265289\n",
      "Weight -0.132085  0.040229  1.000000  0.179911  0.363285 -0.057124  0.191686  0.095195  0.123281\n",
      "Height -0.030564  0.062850  0.179911  1.000000  0.089583  0.287069  0.233650  0.190750  0.136235\n",
      "SBP     0.018123  0.029573  0.363285  0.089583  1.000000  0.210489  0.168489  0.098783  0.569602\n",
      "DBP    -0.274374 -0.003973 -0.057124  0.287069  0.210489  1.000000  0.123262  0.356640  0.373655\n",
      "HR      0.005606  0.103078  0.191686  0.233650  0.168489  0.123262  1.000000  0.279569  0.076587\n",
      "Temp    0.079557  0.251292  0.095195  0.190750  0.098783  0.356640  0.279569  1.000000  0.413755\n",
      "DO      0.341373  0.265289  0.123281  0.136235  0.569602  0.373655  0.076587  0.413755  1.000000\n"
     ]
    }
   ],
   "source": [
    "# Bivariate\n",
    "bi = BivariateAnalysis(cleaned_df)\n",
    "bi.correlation_matrix()"
   ]
  },
  {
   "cell_type": "code",
   "execution_count": 31,
   "id": "7126b4e3",
   "metadata": {},
   "outputs": [
    {
     "name": "stdout",
     "output_type": "stream",
     "text": [
      "\n",
      "Covariance matrix:\n",
      "                ID         Age      Weight     Height         SBP        DBP         HR      Temp        DO\n",
      "ID      346.666667   80.396825  -32.614286  -5.479365    4.396825 -43.642857   0.849206  1.321429  3.007937\n",
      "Age      80.396825  107.646825    5.535317   6.278770    3.998016  -0.352183   8.701389  2.325893  1.302579\n",
      "Weight  -32.614286    5.535317  175.873294  22.973393   62.776389  -6.471925  20.683036  1.126220  0.773710\n",
      "Height   -5.479365    6.278770   22.973393  92.711577   11.239385  23.613839  18.304415  1.638487  0.620784\n",
      "SBP       4.396825    3.998016   62.776389  11.239385  169.784722  23.431052  17.862599  1.148264  3.512401\n",
      "DBP     -43.642857   -0.352183   -6.471925  23.613839   23.431052  72.983879   8.567708  2.718031  1.510665\n",
      "HR        0.849206    8.701389   20.683036  18.304415   17.862599   8.567708  66.198165  2.029191  0.294891\n",
      "Temp      1.321429    2.325893    1.126220   1.638487    1.148264   2.718031   2.029191  0.795831  0.174678\n",
      "DO        3.007937    1.302579    0.773710   0.620784    3.512401   1.510665   0.294891  0.174678  0.223958\n"
     ]
    }
   ],
   "source": [
    "bi.covariance_matrix()"
   ]
  },
  {
   "cell_type": "code",
   "execution_count": 32,
   "id": "fb09464b",
   "metadata": {},
   "outputs": [
    {
     "name": "stdout",
     "output_type": "stream",
     "text": [
      "\n",
      "Mean of each feature grouped by 'ID':\n",
      "     Age  Weight  Height    SBP   DBP    HR   Temp   DO\n",
      "ID                                                     \n",
      "1   25.0    68.5   172.2  120.0  80.0  75.0   98.6  0.0\n",
      "2   30.0    75.0   180.5  130.0  85.0  80.0   99.1  0.0\n",
      "3   22.0    60.2   165.3  110.0  70.0  65.0   97.9  0.0\n",
      "4   28.0    82.1   178.0  140.0  90.0  85.0  100.2  1.0\n",
      "5   35.0    90.0   185.4  135.0  88.0  82.0   99.4  1.0\n",
      "..   ...     ...     ...    ...   ...   ...    ...  ...\n",
      "60  30.0    55.9   160.4  113.0  95.0  88.0   99.6  1.0\n",
      "61  43.0    76.0   188.3  116.0  73.0  74.0  100.7  1.0\n",
      "62  55.0    71.0   176.9  135.0  90.0  60.0  100.4  1.0\n",
      "63  59.0    56.9   171.6  149.0  74.0  84.0   98.8  1.0\n",
      "64  43.0    94.0   160.5  139.0  67.0  66.0   97.4  1.0\n",
      "\n",
      "[64 rows x 8 columns]\n"
     ]
    }
   ],
   "source": [
    "bi.group_mean_by_target('ID')"
   ]
  },
  {
   "cell_type": "code",
   "execution_count": 34,
   "id": "cd0f87c6",
   "metadata": {},
   "outputs": [
    {
     "name": "stdout",
     "output_type": "stream",
     "text": [
      "\n",
      "Count of entries grouped by 'Age':\n",
      "     ID  Weight  Height  SBP  DBP  HR  Temp  DO\n",
      "Age                                            \n",
      "21    4       4       4    4    4   4     4   4\n",
      "22    4       4       4    4    4   4     4   4\n",
      "23    2       2       2    2    2   2     2   2\n",
      "24    1       1       1    1    1   1     1   1\n",
      "25    2       2       2    2    2   2     2   2\n",
      "26    2       2       2    2    2   2     2   2\n",
      "27    2       2       2    2    2   2     2   2\n",
      "28    2       2       2    2    2   2     2   2\n",
      "29    1       1       1    1    1   1     1   1\n",
      "30    4       4       4    4    4   4     4   4\n",
      "31    2       2       2    2    2   2     2   2\n",
      "32    2       2       2    2    2   2     2   2\n",
      "33    2       2       2    2    2   2     2   2\n",
      "34    1       1       1    1    1   1     1   1\n",
      "35    2       2       2    2    2   2     2   2\n",
      "38    5       5       5    5    5   5     5   5\n",
      "39    1       1       1    1    1   1     1   1\n",
      "40    3       3       3    3    3   3     3   3\n",
      "41    1       1       1    1    1   1     1   1\n",
      "42    2       2       2    2    2   2     2   2\n",
      "43    3       3       3    3    3   3     3   3\n",
      "44    2       2       2    2    2   2     2   2\n",
      "45    2       2       2    2    2   2     2   2\n",
      "46    2       2       2    2    2   2     2   2\n",
      "47    1       1       1    1    1   1     1   1\n",
      "48    3       3       3    3    3   3     3   3\n",
      "49    1       1       1    1    1   1     1   1\n",
      "50    1       1       1    1    1   1     1   1\n",
      "55    1       1       1    1    1   1     1   1\n",
      "58    2       2       2    2    2   2     2   2\n",
      "59    1       1       1    1    1   1     1   1\n",
      "None\n"
     ]
    }
   ],
   "source": [
    "print(bi.group_count_by_target('Age'))"
   ]
  },
  {
   "cell_type": "code",
   "execution_count": null,
   "id": "78f62949",
   "metadata": {},
   "outputs": [
    {
     "name": "stdout",
     "output_type": "stream",
     "text": [
      "\n",
      "Crosstab between 'Age' and 'DO':\n",
      "DO   0  1\n",
      "Age      \n",
      "21   1  3\n",
      "22   2  2\n",
      "23   2  0\n",
      "24   1  0\n",
      "25   2  0\n",
      "26   1  1\n",
      "27   1  1\n",
      "28   0  2\n",
      "29   1  0\n",
      "30   2  2\n",
      "31   0  2\n",
      "32   1  1\n",
      "33   1  1\n",
      "34   1  0\n",
      "35   0  2\n",
      "38   0  5\n",
      "39   0  1\n",
      "40   0  3\n",
      "41   0  1\n",
      "42   0  2\n",
      "43   0  3\n",
      "44   1  1\n",
      "45   1  1\n",
      "46   0  2\n",
      "47   0  1\n",
      "48   1  2\n",
      "49   1  0\n",
      "50   0  1\n",
      "55   0  1\n",
      "58   1  1\n",
      "59   0  1\n"
     ]
    }
   ],
   "source": [
    "bi.crosstab_two_columns('Age','DO')"
   ]
  },
  {
   "cell_type": "markdown",
   "id": "a060fda4",
   "metadata": {},
   "source": [
    "## **Univariate Data Visualization**\n",
    "\n",
    "These plots explore the **distribution and characteristics of individual columns** (features).\n",
    "\n",
    "### Plots Covered:\n",
    "1. Histogram - Frequency distribution\n",
    "2. Boxplot - Detect outliers and spread\n",
    "3. KDE Plot - Smoothed version of histogram\n",
    "4. Countplot - For categorical variables (like target column)\n"
   ]
  },
  {
   "cell_type": "code",
   "execution_count": null,
   "id": "1ba6eb38",
   "metadata": {},
   "outputs": [],
   "source": [
    "class UnivariatePlots:\n",
    "    def __init__(self, dataframe):\n",
    "        self.df = dataframe.copy()\n",
    "\n",
    "    def plot_histogram(self, column, bins=30, color='skyblue', edgecolor='black', figsize=(8, 4)):\n",
    "        print(f\"\\nHistogram for '{column}'\")\n",
    "        plt.figure(figsize=figsize)\n",
    "        plt.hist(self.df[column], bins=bins, color=color, edgecolor=edgecolor)\n",
    "        plt.title(f'Histogram of {column}')\n",
    "        plt.xlabel(column)\n",
    "        plt.ylabel('Frequency')\n",
    "        plt.tight_layout()\n",
    "        plt.show()\n",
    "\n",
    "    def plot_boxplot(self, column, color='salmon', figsize=(6, 4), orient='v'):\n",
    "        print(f\"\\nBoxplot for '{column}'\")\n",
    "        plt.figure(figsize=figsize)\n",
    "        if orient == 'v':\n",
    "            sns.boxplot(y=self.df[column], color=color)\n",
    "        else:\n",
    "            sns.boxplot(x=self.df[column], color=color)\n",
    "        plt.title(f'Boxplot of {column}')\n",
    "        plt.tight_layout()\n",
    "        plt.show()\n",
    "\n",
    "    def plot_kde(self, column, color='purple', shade=True, figsize=(8, 4)):\n",
    "        print(f\"\\nKDE Plot for '{column}'\")\n",
    "        plt.figure(figsize=figsize)\n",
    "        sns.kdeplot(self.df[column], fill=shade, color=color)\n",
    "        plt.title(f'KDE Plot of {column}')\n",
    "        plt.xlabel(column)\n",
    "        plt.tight_layout()\n",
    "        plt.show()\n",
    "\n",
    "    def plot_countplot(self, column, palette='Set2', figsize=(6, 4), orient='v'):\n",
    "        print(f\"\\nCountplot for '{column}'\")\n",
    "        plt.figure(figsize=figsize)\n",
    "        if orient == 'v':\n",
    "            sns.countplot(x=self.df[column], hue=self.df[column], palette=palette, legend=False)\n",
    "        else:\n",
    "            sns.countplot(y=self.df[column], hue=self.df[column], palette=palette, legend=False)\n",
    "        plt.title(f'Countplot of {column}')\n",
    "        plt.tight_layout()\n",
    "        plt.show()\n",
    "\n"
   ]
  },
  {
   "cell_type": "markdown",
   "id": "96a924dd",
   "metadata": {},
   "source": [
    "### **Age Distribution Overview**\n",
    "**This bar graph illustrates how different age groups are spread across the patient data**.\n",
    "**A large number of entries fall between the ages of 20 and 50, suggesting that most individuals in the dataset are either young adults or in their middle age.**\n",
    "**It highlights the central tendency and possible skewness in the age distribution.**"
   ]
  },
  {
   "cell_type": "code",
   "execution_count": null,
   "id": "6114f7bf",
   "metadata": {},
   "outputs": [
    {
     "name": "stdout",
     "output_type": "stream",
     "text": [
      "\n",
      "Histogram for 'Age'\n"
     ]
    },
    {
     "data": {
      "image/png": "[encoded data removed]",
      "text/plain": [
       "<Figure size 1000x500 with 1 Axes>"
      ]
     },
     "metadata": {},
     "output_type": "display_data"
    }
   ],
   "source": [
    "uni_plot = UnivariatePlots(cleaned_df)\n",
    "\n",
    "# Histogram with custom color and bins\n",
    "uni_plot.plot_histogram(\"Age\", bins=20, color=\"pink\", edgecolor=\"violet\", figsize=(10, 5))"
   ]
  },
  {
   "cell_type": "markdown",
   "id": "9e0f8ee4",
   "metadata": {},
   "source": [
    "### **Boxplot horizontal**\n",
    "\n",
    "**This boxplot of Diastolic Blood Pressure illustrates the overall distribution, central tendency, and variability within the data.**\n",
    "**The presence of outliers on the higher end indicates that some individuals may have unusually high diastolic pressure, which could be a sign of hypertension.**"
   ]
  },
  {
   "cell_type": "code",
   "execution_count": null,
   "id": "e9222c4b",
   "metadata": {},
   "outputs": [
    {
     "name": "stdout",
     "output_type": "stream",
     "text": [
      "\n",
      "Boxplot for 'DBP'\n"
     ]
    },
    {
     "data": {
      "image/png": "[encoded data removed]",
      "text/plain": [
       "<Figure size 800x400 with 1 Axes>"
      ]
     },
     "metadata": {},
     "output_type": "display_data"
    }
   ],
   "source": [
    "# Boxplot horizontal\n",
    "uni_plot.plot_boxplot(\"DBP\", color=\"violet\", figsize=(8, 4), orient='h')"
   ]
  },
  {
   "cell_type": "markdown",
   "id": "3564e73f",
   "metadata": {},
   "source": [
    "### **KDE Plot with custom shade color**\n",
    "\n",
    "**This KDE (Kernel Density Estimate) plot shows a smoothed version of the age distribution.**\n",
    "**It helps us understand how age is distributed in the population, with most patients falling between the ages of 20 and 50.**"
   ]
  },
  {
   "cell_type": "code",
   "execution_count": null,
   "id": "684675da",
   "metadata": {},
   "outputs": [
    {
     "name": "stdout",
     "output_type": "stream",
     "text": [
      "\n",
      "KDE Plot for 'Age'\n"
     ]
    },
    {
     "data": {
      "image/png": "[encoded data removed]",
      "text/plain": [
       "<Figure size 1000x500 with 1 Axes>"
      ]
     },
     "metadata": {},
     "output_type": "display_data"
    }
   ],
   "source": [
    "# KDE Plot with custom shade color\n",
    "uni_plot.plot_kde(\"Age\", color=\"purple\", shade=True, figsize=(10, 5))"
   ]
  },
  {
   "cell_type": "markdown",
   "id": "2d7ab7b2",
   "metadata": {},
   "source": [
    "### _**Class Distribution (Diastolic Blood pressure)**_\n",
    "\n",
    "**The contour plot of Diastolic Blood Pressure highlights areas where values are densely clustered.**\n",
    "**Regions with higher diastolic pressure suggest potential patterns of hypertension, making it easier to spot trends and at-risk groups within the data.**"
   ]
  },
  {
   "cell_type": "code",
   "execution_count": null,
   "id": "a8623488",
   "metadata": {},
   "outputs": [
    {
     "name": "stdout",
     "output_type": "stream",
     "text": [
      "\n",
      "Countplot for 'DBP'\n"
     ]
    },
    {
     "data": {
      "image/png": "[encoded data removed]",
      "text/plain": [
       "<Figure size 700x400 with 1 Axes>"
      ]
     },
     "metadata": {},
     "output_type": "display_data"
    }
   ],
   "source": [
    "# Countplot for Outcome (categorical)\n",
    "uni_plot.plot_countplot(\"DBP\", palette=\"pastel\", figsize=(7, 4))"
   ]
  },
  {
   "cell_type": "markdown",
   "id": "c26d1869",
   "metadata": {},
   "source": [
    "## **Bivariate Data Visualization**\n",
    "\n",
    "These plots explore the **relationship between two features**.\n",
    "\n",
    "### Plots Covered:\n",
    "1. Scatter Plot - Numerical vs Numerical\n",
    "2. Heatmap - Correlation matrix in visual form\n",
    "3. Boxplot by Category - Spread across classes\n",
    "4. Pairplot - Multiple pairwise scatterplots\n"
   ]
  },
  {
   "cell_type": "code",
   "execution_count": null,
   "id": "46926424",
   "metadata": {},
   "outputs": [],
   "source": [
    "class BivariatePlots:\n",
    "    def __init__(self, dataframe):\n",
    "        self.df = dataframe.copy()\n",
    "\n",
    "    def scatter_plot(self, col1, col2, hue='DO', palette='coolwarm', figsize=(8, 5)):\n",
    "        print(f\"\\nScatter Plot: '{col1}' vs '{col2}'\")\n",
    "        plt.figure(figsize=figsize)\n",
    "        sns.scatterplot(x=self.df[col1], y=self.df[col2], hue=self.df[hue], palette=palette)\n",
    "        plt.title(f'Scatter Plot: {col1} vs {col2}')\n",
    "        plt.tight_layout()\n",
    "        plt.show()\n",
    "\n",
    "    def correlation_heatmap(self, annot=True, cmap='DO', figsize=(10, 8)):\n",
    "        print(\"\\nCorrelation Heatmap\")\n",
    "        plt.figure(figsize=figsize)\n",
    "        sns.heatmap(self.df.corr(), annot=annot, cmap=cmap, fmt=\".2f\", square=True)\n",
    "        plt.title(\"Correlation Heatmap\")\n",
    "        plt.tight_layout()\n",
    "        plt.show()\n",
    "    def boxplot_by_category(self, numerical_col, category_col='DO', palette='pastel', figsize=(7, 5)):\n",
    "        print(f\"\\nBoxplot: '{numerical_col}' grouped by '{category_col}'\")\n",
    "        plt.figure(figsize=figsize)\n",
    "        sns.boxplot(\n",
    "        x=self.df[category_col],\n",
    "        y=self.df[numerical_col],\n",
    "        hue=self.df[category_col],      \n",
    "        palette=palette,\n",
    "        legend=False\n",
    "        )                    \n",
    "        plt.title(f'Boxplot of {numerical_col} by {category_col}')\n",
    "        plt.tight_layout()\n",
    "        plt.show()\n",
    "        \n",
    "    def pairplot(self, columns=None, hue='DO', palette='husl'):\n",
    "        print(f\"\\nPairplot of selected features\")\n",
    "        if columns:\n",
    "            sns.pairplot(self.df[columns], hue=hue, palette=palette)\n",
    "        else:\n",
    "            sns.pairplot(self.df, hue=hue, palette=palette)\n",
    "        plt.tight_layout()\n",
    "        plt.show()\n"
   ]
  },
  {
   "cell_type": "markdown",
   "id": "69e4ad96",
   "metadata": {},
   "source": [
    "### **Custom scatter plot**\n",
    "\n",
    "**This scatter plot illustrates the relationship between Diastolic and Systolic Blood Pressure.**\n",
    "**Points are colored based on the DiseaseOutcome column.**\n",
    "**Individuals with a positive outcome (DiseaseOutcome = 1) tend to have both higher diastolic and systolic pressures, forming a distinct cluster in the upper-right region**"
   ]
  },
  {
   "cell_type": "code",
   "execution_count": null,
   "id": "403bf29a",
   "metadata": {},
   "outputs": [
    {
     "name": "stdout",
     "output_type": "stream",
     "text": [
      "\n",
      "Scatter Plot: 'DBP' vs 'SBP'\n"
     ]
    },
    {
     "data": {
      "image/png": "[encoded data removed]",
      "text/plain": [
       "<Figure size 1000x600 with 1 Axes>"
      ]
     },
     "metadata": {},
     "output_type": "display_data"
    }
   ],
   "source": [
    "bi_plot = BivariatePlots(cleaned_df)\n",
    "\n",
    "bi_plot.scatter_plot('DBP', 'SBP', palette='magma', figsize=(10, 6))"
   ]
  },
  {
   "cell_type": "markdown",
   "id": "6a87ec3a",
   "metadata": {},
   "source": [
    "### _**Correlation Matrix**_\n",
    "\n",
    "**The heatmap reveals how different health indicators relate to each other.**\n",
    "**Diastolic and Systolic Blood Pressure show a noticeable positive link, while most other variables have mild or weak associations.**\n",
    "**This visualization helps pinpoint which factors might be more relevant to predicting DiseaseOutcome.**"
   ]
  },
  {
   "cell_type": "code",
   "execution_count": null,
   "id": "6144bb9d",
   "metadata": {},
   "outputs": [
    {
     "name": "stdout",
     "output_type": "stream",
     "text": [
      "\n",
      "Correlation Heatmap\n"
     ]
    },
    {
     "data": {
      "image/png": "[encoded data removed]",
      "text/plain": [
       "<Figure size 1200x1000 with 2 Axes>"
      ]
     },
     "metadata": {},
     "output_type": "display_data"
    }
   ],
   "source": [
    "bi_plot.correlation_heatmap(cmap='PiYG', figsize=(12, 10))"
   ]
  },
  {
   "cell_type": "markdown",
   "id": "0585b44c",
   "metadata": {},
   "source": [
    "### **Age vs DiseaseOutcome**\n",
    "**This boxplot shows that individuals with a positive DiseaseOutcome tend to be older on average.**\n",
    "**This indicates that age may play a significant role in predicting health risks associated with elevated blood pressure or related conditions.**"
   ]
  },
  {
   "cell_type": "code",
   "execution_count": null,
   "id": "657477fc",
   "metadata": {},
   "outputs": [
    {
     "name": "stdout",
     "output_type": "stream",
     "text": [
      "\n",
      "Boxplot: 'Age' grouped by 'DO'\n"
     ]
    },
    {
     "data": {
      "image/png": "[encoded data removed]",
      "text/plain": [
       "<Figure size 800x500 with 1 Axes>"
      ]
     },
     "metadata": {},
     "output_type": "display_data"
    }
   ],
   "source": [
    "# Boxplot with custom size and palette\n",
    "bi_plot.boxplot_by_category(\"Age\", palette=\"PiYG\", figsize=(8, 5))\n"
   ]
  },
  {
   "cell_type": "markdown",
   "id": "9120205c",
   "metadata": {},
   "source": [
    "## **Machine Learning Workflow**\n",
    "\n",
    "Now we move to training the model. This part includes:\n",
    "\n",
    "1. **Splitting the Data**  \n",
    "   - Train-test split using `sklearn.model_selection`\n",
    "\n",
    "2. **Training the Model**  \n",
    "   - We use `Logistic Regression` for binary classification (`Age` column)\n",
    "\n",
    "3. **Evaluating the Model**  \n",
    "   - Accuracy, Confusion Matrix, Classification Report\n",
    "\n",
    "4. **Predicting with the Model**  \n",
    "   - Using model to predict new or test data\n",
    "\n",
    "Every block is wrapped in a separate class to keep things clean and modular.\n"
   ]
  },
  {
   "cell_type": "code",
   "execution_count": null,
   "id": "78d722bc",
   "metadata": {},
   "outputs": [],
   "source": [
    "class DataSplitter:\n",
    "    def __init__(self, dataframe, target_column):\n",
    "        self.df = dataframe\n",
    "        self.target = target_column\n",
    "\n",
    "    def split_data(self, test_size=0.3, random_state=42):\n",
    "        X = self.df.drop(self.target, axis=1)\n",
    "        y = self.df[self.target]\n",
    "        X_train, X_test, y_train, y_test = train_test_split(X, y, test_size=test_size, random_state=random_state)\n",
    "        return X_train, X_test, y_train, y_test\n",
    "\n",
    "class ModelTrainer:\n",
    "    def __init__(self):\n",
    "        self.model = LogisticRegression(max_iter=1000)\n",
    "\n",
    "    def train_model(self, X_train, y_train):\n",
    "        self.model.fit(X_train, y_train)\n",
    "class ModelEvaluator:\n",
    "    def __init__(self, model, X_test, y_test):\n",
    "        self.model = model\n",
    "        self.X_test = X_test\n",
    "        self.y_test = y_test\n",
    "        self.predictions = self.model.predict(self.X_test)\n",
    "\n",
    "    def show_prediction(self):\n",
    "        return self.predictions\n",
    "    \n",
    "    def show_accuracy(self):\n",
    "        print(\"\\nAccuracy Score:\")\n",
    "        return accuracy_score(self.y_test, self.predictions)\n",
    "    \n",
    "    def show_confusion_matrix(self):\n",
    "        print(\"\\nConfusion Matrix:\")\n",
    "        return confusion_matrix(self.y_test, self.predictions)\n",
    "    \n",
    "    def show_classification_report(self):\n",
    "        print(\"\\nClassification Report:\")\n",
    "        return classification_report(self.y_test, self.predictions)\n",
    "\n",
    "\n",
    "class Predictor:\n",
    "    def __init__(self, model):\n",
    "        self.model = model\n",
    "\n",
    "    def predict(self, new_data):\n",
    "        prediction = self.model.predict(new_data)\n",
    "        return prediction\n"
   ]
  },
  {
   "cell_type": "code",
   "execution_count": null,
   "id": "ac175d4e",
   "metadata": {},
   "outputs": [
    {
     "data": {
      "text/plain": [
       "(    ID  Age  Weight  Height  SBP  DBP  HR   Temp\n",
       " 6    7   27    70.5   175.0  125   82  77   98.4\n",
       " 33  34   35    64.0   167.4  132   95  78   99.6\n",
       " 4    5   35    90.0   185.4  135   88  82   99.4\n",
       " 47  48   22    64.7   178.9  141   84  83   98.3\n",
       " 19  20   33    90.3   186.1  116   83  66   98.7\n",
       " 54  55   40    55.0   189.5  106   88  75   97.8\n",
       " 41  42   48    56.8   192.1  113   79  78   99.9\n",
       " 55  56   58    94.7   174.0  143   77  77   99.8\n",
       " 31  32   39    92.7   176.6  138   80  79   99.2\n",
       " 30  31   21    94.1   166.7  149   79  84   99.8\n",
       " 59  60   30    55.9   160.4  113   95  88   99.6\n",
       " 60  61   43    76.0   188.3  116   73  74  100.7\n",
       " 15  16   41    72.5   167.3  130   95  76  100.5\n",
       " 27  28   47    55.3   164.9  138   85  78   98.4\n",
       " 26  27   38    77.2   190.0  148   84  73   98.0\n",
       " 24  25   43    85.5   164.9  124   85  88  100.4\n",
       " 46  47   48    66.7   172.9  111   77  88  100.4\n",
       " 11  12   33    73.5   174.3  133   86  81   99.2\n",
       " 32  33   21    66.2   194.5  139   93  82   99.0\n",
       " 57  58   42    79.5   180.4  146   93  85   99.4\n",
       " 45  46   32    67.3   161.8  129   86  61   98.9\n",
       " 37  38   50    97.1   173.8  142   70  82   98.5\n",
       " 29  30   45    64.5   171.3  130   83  79   98.9\n",
       " 43  44   40    86.9   174.0  141   77  82   99.1\n",
       " 48  49   46    79.5   166.8  131   75  72   99.7\n",
       " 1    2   30    75.0   180.5  130   85  80   99.1\n",
       " 21  22   38    74.0   188.9  127   88  81   99.0\n",
       " 2    3   22    60.2   165.3  110   70  65   97.9\n",
       " 62  63   59    56.9   171.6  149   74  84   98.8\n",
       " 39  40   22    77.0   166.1  143   80  66   98.6\n",
       " 35  36   24    85.5   185.4  127   78  85   98.3\n",
       " 23  24   49    59.6   182.2  119   80  69   98.3\n",
       " 53  54   27    92.5   171.5  146   63  80   97.1\n",
       " 10  11   29    78.2   177.6  128   84  79   98.8\n",
       " 22  23   30    89.9   163.6  111   77  66   98.8\n",
       " 18  19   31    93.6   162.7  147   84  75   97.6\n",
       " 63  64   43    94.0   160.5  139   67  66   97.4\n",
       " 20  21   25    82.8   168.3  126   78  82   99.0\n",
       " 7    8   31    85.3   182.2  138   87  83   99.6\n",
       " 42  43   38    97.1   179.2  148   73  84   99.5\n",
       " 14  15   21    58.5   162.0  108   68  60   97.6\n",
       " 28  29   28    93.3   184.1  136   73  69   98.9\n",
       " 51  52   48    57.3   162.7  119   61  82   98.6\n",
       " 38  39   21    61.7   178.5  147   73  64   98.6,\n",
       "     ID  Age  Weight  Height  SBP  DBP  HR   Temp\n",
       " 52  53   34    83.9   178.6  127   65  99   98.2\n",
       " 58  59   30    55.3   173.5  134   69  84  100.7\n",
       " 0    1   25    68.5   172.2  120   80  75   98.6\n",
       " 44  45   26    71.2   189.2  139   85  69   99.4\n",
       " 5    6   40    95.0   190.0  145   92  88   99.9\n",
       " 36  37   44    93.8   194.5  118   73  89   98.0\n",
       " 16  17   23    73.0   166.9  110   77  84   98.0\n",
       " 12  13   26    69.0   169.9  122   78  76   98.3\n",
       " 25  26   46    60.5   162.4  143   87  80   97.7\n",
       " 61  62   55    71.0   176.9  135   90  60  100.4\n",
       " 56  57   38    79.7   185.8  107   85  83  100.2\n",
       " 9   10   45   100.0   192.0  150   95  90  100.5\n",
       " 40  41   42    61.2   175.1  136   80  85   99.9\n",
       " 13  14   38    88.0   181.1  142   89  86   99.7\n",
       " 34  35   44    70.6   187.4  129   88  76   98.1\n",
       " 50  51   58    81.0   167.0  101   63  73   98.7\n",
       " 3    4   28    82.1   178.0  140   90  85  100.2\n",
       " 17  18   22    73.1   174.2  129   70  87   99.3\n",
       " 49  50   32    65.9   182.4  121   85  82   98.2\n",
       " 8    9   23    64.0   168.5  115   75  70   98.0,\n",
       " 6     0\n",
       " 33    1\n",
       " 4     1\n",
       " 47    1\n",
       " 19    0\n",
       " 54    1\n",
       " 41    1\n",
       " 55    1\n",
       " 31    1\n",
       " 30    1\n",
       " 59    1\n",
       " 60    1\n",
       " 15    1\n",
       " 27    1\n",
       " 26    1\n",
       " 24    1\n",
       " 46    1\n",
       " 11    1\n",
       " 32    1\n",
       " 57    1\n",
       " 45    1\n",
       " 37    1\n",
       " 29    0\n",
       " 43    1\n",
       " 48    1\n",
       " 1     0\n",
       " 21    1\n",
       " 2     0\n",
       " 62    1\n",
       " 39    1\n",
       " 35    0\n",
       " 23    0\n",
       " 53    1\n",
       " 10    0\n",
       " 22    0\n",
       " 18    1\n",
       " 63    1\n",
       " 20    0\n",
       " 7     1\n",
       " 42    1\n",
       " 14    0\n",
       " 28    1\n",
       " 51    0\n",
       " 38    1\n",
       " Name: DO, dtype: int64,\n",
       " 52    0\n",
       " 58    1\n",
       " 0     0\n",
       " 44    1\n",
       " 5     1\n",
       " 36    0\n",
       " 16    0\n",
       " 12    0\n",
       " 25    1\n",
       " 61    1\n",
       " 56    1\n",
       " 9     1\n",
       " 40    1\n",
       " 13    1\n",
       " 34    1\n",
       " 50    0\n",
       " 3     1\n",
       " 17    0\n",
       " 49    0\n",
       " 8     0\n",
       " Name: DO, dtype: int64)"
      ]
     },
     "execution_count": 43,
     "metadata": {},
     "output_type": "execute_result"
    }
   ],
   "source": [
    "# Splitting the data\n",
    "splitter = DataSplitter(cleaned_df, target_column='DO')\n",
    "X_train, X_test, y_train, y_test = splitter.split_data(test_size=0.3, random_state=42)\n",
    "X_train, X_test, y_train, y_test"
   ]
  },
  {
   "cell_type": "code",
   "execution_count": null,
   "id": "205ff098",
   "metadata": {},
   "outputs": [],
   "source": [
    "# 2. Train the model\n",
    "trainer = ModelTrainer()\n",
    "trainer.train_model(X_train, y_train)"
   ]
  },
  {
   "cell_type": "code",
   "execution_count": null,
   "id": "54822cd5",
   "metadata": {},
   "outputs": [
    {
     "data": {
      "text/plain": [
       "<__main__.ModelEvaluator at 0x1c4b04dcd70>"
      ]
     },
     "execution_count": 45,
     "metadata": {},
     "output_type": "execute_result"
    }
   ],
   "source": [
    "# Evaluating the model\n",
    "evaluator = ModelEvaluator(trainer.model, X_test, y_test)\n",
    "evaluator"
   ]
  },
  {
   "cell_type": "code",
   "execution_count": null,
   "id": "80301664",
   "metadata": {},
   "outputs": [
    {
     "data": {
      "text/plain": [
       "array([0, 1, 0, 1, 1, 1, 0, 0, 1, 1, 1, 1, 1, 1, 1, 0, 1, 0, 1, 0])"
      ]
     },
     "execution_count": 46,
     "metadata": {},
     "output_type": "execute_result"
    }
   ],
   "source": [
    "# Show predictions\n",
    "predictions = evaluator.show_prediction()\n",
    "predictions\n"
   ]
  },
  {
   "cell_type": "code",
   "execution_count": null,
   "id": "93f146aa",
   "metadata": {},
   "outputs": [
    {
     "name": "stdout",
     "output_type": "stream",
     "text": [
      "\n",
      "Accuracy Score:\n",
      "0.9\n"
     ]
    }
   ],
   "source": [
    "# Accuracy score\n",
    "accuracy = evaluator.show_accuracy()\n",
    "print(accuracy)\n"
   ]
  },
  {
   "cell_type": "code",
   "execution_count": null,
   "id": "de97bf27",
   "metadata": {},
   "outputs": [
    {
     "name": "stdout",
     "output_type": "stream",
     "text": [
      "\n",
      "Classification Report:\n"
     ]
    },
    {
     "data": {
      "text/plain": [
       "'              precision    recall  f1-score   support\\n\\n           0       1.00      0.78      0.88         9\\n           1       0.85      1.00      0.92        11\\n\\n    accuracy                           0.90        20\\n   macro avg       0.92      0.89      0.90        20\\nweighted avg       0.92      0.90      0.90        20\\n'"
      ]
     },
     "execution_count": 48,
     "metadata": {},
     "output_type": "execute_result"
    }
   ],
   "source": [
    "\n",
    "evaluator.show_classification_report()"
   ]
  },
  {
   "cell_type": "code",
   "execution_count": null,
   "id": "6d2e560b",
   "metadata": {},
   "outputs": [
    {
     "name": "stdout",
     "output_type": "stream",
     "text": [
      "\n",
      "Confusion Matrix:\n"
     ]
    },
    {
     "data": {
      "text/plain": [
       "array([[ 7,  2],\n",
       "       [ 0, 11]])"
      ]
     },
     "execution_count": 49,
     "metadata": {},
     "output_type": "execute_result"
    }
   ],
   "source": [
    "# Confusion matrix\n",
    "evaluator.show_confusion_matrix()\n"
   ]
  },
  {
   "cell_type": "code",
   "execution_count": null,
   "id": "5a97c7b4",
   "metadata": {},
   "outputs": [],
   "source": [
    "# 4. Predict on new/test data (Optional)\n",
    "\n",
    "predictor = Predictor(trainer.model)\n",
    "\n"
   ]
  },
  {
   "cell_type": "code",
   "execution_count": null,
   "id": "b8e872e9",
   "metadata": {},
   "outputs": [
    {
     "name": "stdout",
     "output_type": "stream",
     "text": [
      "Predicted DiseaseOutcome: Not Sick\n"
     ]
    }
   ],
   "source": [
    "\n",
    "new_data = pd.DataFrame({ \n",
    "    'ID': [101],\n",
    "    'Age': [45],\n",
    "    'Weight': [70],\n",
    "    'Height': [175],\n",
    "    'SBP': [120],\n",
    "    'DBP': [80],\n",
    "    'HR': [75],\n",
    "    'Temp': [36.5]})\n",
    "\n",
    "# Prediction (0 = not sick , 1 = sick)\n",
    "result = predictor.predict(new_data)\n",
    "print(\"Predicted DiseaseOutcome:\", \"sick\" if result[0] == 1 else \"Not Sick\")\n"
   ]
  },
  {
   "cell_type": "markdown",
   "id": "a0fec695",
   "metadata": {},
   "source": [
    "## **Saving and Loading Trained Model with Pickle**\n",
    "\n",
    "We use the `pickle` library to save the trained ML model into a `.pkl` file.\n",
    "This allows us to reuse the model without retraining.\n",
    "\n",
    "### Why Use Pickle?\n",
    "- Avoids retraining\n",
    "- Good for deployment\n",
    "- Makes model portable\n",
    "\n",
    "The `PickleHandler` class has methods to save and load the model.\n"
   ]
  },
  {
   "cell_type": "code",
   "execution_count": null,
   "id": "adae69a9",
   "metadata": {},
   "outputs": [],
   "source": [
    "class PickleHandler:\n",
    "    def __init__(self, filepath='people_data.pkl'):\n",
    "        self.filepath = filepath\n",
    "\n",
    "    def save_model(self, model):\n",
    "        with open(self.filepath, 'wb') as file:\n",
    "            pickle.dump(model, file)\n",
    "        print(f\"Model saved to '{self.filepath}' successfully.\")\n",
    "\n",
    "    def load_model(self):\n",
    "        with open(self.filepath, 'rb') as file:\n",
    "            model = pickle.load(file)\n",
    "        print(f\"Model loaded from '{self.filepath}' successfully.\")\n",
    "        return model\n"
   ]
  },
  {
   "cell_type": "code",
   "execution_count": null,
   "id": "64fb2f13",
   "metadata": {},
   "outputs": [
    {
     "name": "stdout",
     "output_type": "stream",
     "text": [
      "Model saved to 'people_data.pkl' successfully.\n"
     ]
    }
   ],
   "source": [
    "# 1. After training the model\n",
    "pickle_handler = PickleHandler()\n",
    "pickle_handler.save_model('diabetes_model.pkl')"
   ]
  }
 ],
 "metadata": {
  "kernelspec": {
   "display_name": "Python 3",
   "language": "python",
   "name": "python3"
  },
  "language_info": {
   "codemirror_mode": {
    "name": "ipython",
    "version": 3
   },
   "file_extension": ".py",
   "mimetype": "text/x-python",
   "name": "python",
   "nbconvert_exporter": "python",
   "pygments_lexer": "ipython3",
   "version": "3.13.0"
  }
 },
 "nbformat": 4,
 "nbformat_minor": 5
}
